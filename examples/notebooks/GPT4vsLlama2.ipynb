{
 "cells": [
  {
   "cell_type": "markdown",
   "id": "0a13ddc8",
   "metadata": {},
   "source": [
    "# Open Source vc OpenAI"
   ]
  },
  {
   "cell_type": "markdown",
   "id": "780dc3bf",
   "metadata": {},
   "source": [
    "Did GPT-4 get worse? Is Llama 2 a better model? Run this notebook to find out.\n",
    "\n",
    "We'll use auto-evaluation by GPT-4 to measure outputs from Llama 2, as well as gpt-4 (current and frozen versions) across a few prompts. To make this example easy to run, we'll be using a 7B GGML variant of the Llama model. This should be able to run on a typical laptop."
   ]
  },
  {
   "cell_type": "markdown",
   "id": "623f0cfe",
   "metadata": {},
   "source": [
    "## Installations"
   ]
  },
  {
   "cell_type": "markdown",
   "id": "52881369",
   "metadata": {},
   "source": [
    "You can setup prompttools either by installing via `pip` or using `python setup.py develop` in the root of this repo. Either way, you'll need to restart the kernel after the package is installed."
   ]
  },
  {
   "cell_type": "code",
   "execution_count": 1,
   "id": "885dabeb",
   "metadata": {},
   "outputs": [],
   "source": [
    "# !pip install --quiet --force-reinstall prompttools"
   ]
  },
  {
   "cell_type": "markdown",
   "id": "2eac35f8",
   "metadata": {},
   "source": [
    "## Setup imports and API keys"
   ]
  },
  {
   "cell_type": "markdown",
   "id": "5edba05a",
   "metadata": {},
   "source": [
    "Next, we'll need to set our API keys. Since we want to use GPT-4 for auto-eval, we need to set that one."
   ]
  },
  {
   "cell_type": "code",
   "execution_count": 13,
   "id": "ed4e635e",
   "metadata": {},
   "outputs": [],
   "source": [
    "import os\n",
    "os.environ['DEBUG'] = \"\"\n",
    "os.environ['OPENAI_API_KEY'] = \"\""
   ]
  },
  {
   "cell_type": "markdown",
   "id": "842f1e47",
   "metadata": {},
   "source": [
    "Then we'll import the relevant `prompttools` modules to setup our experiment."
   ]
  },
  {
   "cell_type": "code",
   "execution_count": 3,
   "id": "beaa70a1",
   "metadata": {},
   "outputs": [],
   "source": [
    "from typing import Dict, List, Tuple\n",
    "from prompttools.experiment import LlamaCppExperiment\n",
    "from prompttools.experiment import OpenAIChatExperiment\n",
    "from prompttools.harness.multi_experiment_harness import MultiExperimentHarness\n",
    "from prompttools.selector.prompt_selector import PromptSelector"
   ]
  },
  {
   "cell_type": "markdown",
   "id": "622dea9a",
   "metadata": {},
   "source": [
    "## Run an experiment"
   ]
  },
  {
   "cell_type": "markdown",
   "id": "0cd0bae8",
   "metadata": {},
   "source": [
    "To set up this experiment, we need to use a `PromptSelector`. This is because the input formats for Llama 2 and GPT-4 are different. While GPT-4 is run with a chat history, Llama2 takes text input. A `PromptSelector` allows us to pass the same prompt to different models, and render the necessary object at request time."
   ]
  },
  {
   "cell_type": "code",
   "execution_count": 4,
   "id": "2788d49f",
   "metadata": {},
   "outputs": [],
   "source": [
    "instructions = [\"\"\"\n",
    "You are a sales development representative for a startup called Hegel AI.\n",
    "Your startup builds developer tools for large language models.\n",
    "\"\"\",\n",
    "\"\"\"\n",
    "You are a customer support representative for a startup called Hegel AI.\n",
    "For context, Hegel AI does not offer refunds.\n",
    "Answer the following customer question:\n",
    "\"\"\",         \n",
    "\"\"\"\n",
    "You are a helpful math tutor.\n",
    "Answer the following math problem:\n",
    "\"\"\",                 \n",
    "\"\"\"\n",
    "Based on each input you receive, produce a valid JSON using only the keys \"metric_name\" and \"value\".\n",
    "\"\"\"]\n",
    "inputs = [\"\"\"\n",
    "Draft a short sales email, 50 words or less, asking a prospect for 15 minutes\n",
    "of their time to chat about how they're using large language models.\n",
    "\"\"\",\n",
    "\"\"\"\n",
    "Do you offer refunds?\n",
    "\"\"\",\n",
    "\"\"\"\n",
    "Is 17077 a prime number?\n",
    "\"\"\",\n",
    "\"\"\"\n",
    "The speed of the car was 45mph\n",
    "\"\"\"]\n",
    "selectors = [PromptSelector(instructions[i], inputs[i]) for i in range(len(inputs))]"
   ]
  },
  {
   "cell_type": "markdown",
   "id": "3babfe5a",
   "metadata": {},
   "source": [
    "Next, we create our test inputs. We can iterate over models, inputs, and configurations like temperature."
   ]
  },
  {
   "cell_type": "code",
   "execution_count": 5,
   "id": "9114cfbf",
   "metadata": {},
   "outputs": [],
   "source": [
    "model_paths = ['/Users/stevenkrawczyk/Downloads/llama-2-7b-chat.ggmlv3.q2_K.bin']  # Download from https://huggingface.co/TheBloke/Llama-2-7B-Chat-GGML/tree/main\n",
    "temperatures = [1.0]\n",
    "call_params = dict(temperature=temperatures)\n",
    "llama_experiment = LlamaCppExperiment(model_paths, selectors, call_params=call_params)"
   ]
  },
  {
   "cell_type": "code",
   "execution_count": 6,
   "id": "8fe83830",
   "metadata": {},
   "outputs": [],
   "source": [
    "models = ['gpt-4-0314', 'gpt-4-0613', 'gpt-4']\n",
    "temperatures = [0.0]\n",
    "openai_experiment = OpenAIChatExperiment(models, selectors, temperature=temperatures)"
   ]
  },
  {
   "cell_type": "markdown",
   "id": "6c3162e6",
   "metadata": {},
   "source": [
    "After that - we define our harness to run experiments. The `MultiExperimentHarness` is designed to run experiments across multiple model providers. Because the underlying APIs for LlamaCpp and OpenAI are different, we need a way to manage that complexity. So, we can use this harness to run experiments for different providers, and combine the results into a single table."
   ]
  },
  {
   "cell_type": "code",
   "execution_count": 7,
   "id": "9147649a",
   "metadata": {},
   "outputs": [],
   "source": [
    "harness = MultiExperimentHarness([openai_experiment, llama_experiment])"
   ]
  },
  {
   "cell_type": "code",
   "execution_count": 8,
   "id": "0f22ebd7",
   "metadata": {
    "scrolled": true
   },
   "outputs": [
    {
     "name": "stderr",
     "output_type": "stream",
     "text": [
      "llama.cpp: loading model from /Users/stevenkrawczyk/Downloads/llama-2-7b-chat.ggmlv3.q2_K.bin\n",
      "llama_model_load_internal: format     = ggjt v3 (latest)\n",
      "llama_model_load_internal: n_vocab    = 32000\n",
      "llama_model_load_internal: n_ctx      = 512\n",
      "llama_model_load_internal: n_embd     = 4096\n",
      "llama_model_load_internal: n_mult     = 256\n",
      "llama_model_load_internal: n_head     = 32\n",
      "llama_model_load_internal: n_layer    = 32\n",
      "llama_model_load_internal: n_rot      = 128\n",
      "llama_model_load_internal: freq_base  = 10000.0\n",
      "llama_model_load_internal: freq_scale = 1\n",
      "llama_model_load_internal: ftype      = 10 (mostly Q2_K)\n",
      "llama_model_load_internal: n_ff       = 11008\n",
      "llama_model_load_internal: model size = 7B\n",
      "llama_model_load_internal: ggml ctx size =    0.08 MB\n",
      "llama_model_load_internal: mem required  = 4303.65 MB (+ 1026.00 MB per state)\n",
      "llama_new_context_with_model: kv self size  =  256.00 MB\n",
      "AVX = 1 | AVX2 = 1 | AVX512 = 0 | AVX512_VBMI = 0 | AVX512_VNNI = 0 | FMA = 1 | NEON = 0 | ARM_FMA = 0 | F16C = 1 | FP16_VA = 0 | WASM_SIMD = 0 | BLAS = 1 | SSE3 = 1 | VSX = 0 | \n",
      "\n",
      "llama_print_timings:        load time = 25831.55 ms\n",
      "llama_print_timings:      sample time =    74.70 ms /    98 runs   (    0.76 ms per token,  1311.95 tokens per second)\n",
      "llama_print_timings: prompt eval time = 25831.50 ms /    94 tokens (  274.80 ms per token,     3.64 tokens per second)\n",
      "llama_print_timings:        eval time = 11770.02 ms /    97 runs   (  121.34 ms per token,     8.24 tokens per second)\n",
      "llama_print_timings:       total time = 37932.50 ms\n",
      "Llama.generate: prefix-match hit\n",
      "\n",
      "llama_print_timings:        load time = 25831.55 ms\n",
      "llama_print_timings:      sample time =    91.88 ms /   117 runs   (    0.79 ms per token,  1273.47 tokens per second)\n",
      "llama_print_timings: prompt eval time =  8338.26 ms /    58 tokens (  143.76 ms per token,     6.96 tokens per second)\n",
      "llama_print_timings:        eval time = 14250.77 ms /   116 runs   (  122.85 ms per token,     8.14 tokens per second)\n",
      "llama_print_timings:       total time = 22986.72 ms\n",
      "Llama.generate: prefix-match hit\n",
      "\n",
      "llama_print_timings:        load time = 25831.55 ms\n",
      "llama_print_timings:      sample time =   101.11 ms /   128 runs   (    0.79 ms per token,  1265.99 tokens per second)\n",
      "llama_print_timings: prompt eval time =  8593.26 ms /    38 tokens (  226.14 ms per token,     4.42 tokens per second)\n",
      "llama_print_timings:        eval time = 15581.75 ms /   127 runs   (  122.69 ms per token,     8.15 tokens per second)\n",
      "llama_print_timings:       total time = 24666.06 ms\n",
      "Llama.generate: prefix-match hit\n",
      "\n",
      "llama_print_timings:        load time = 25831.55 ms\n",
      "llama_print_timings:      sample time =    15.41 ms /    20 runs   (    0.77 ms per token,  1297.77 tokens per second)\n",
      "llama_print_timings: prompt eval time =  9414.27 ms /    51 tokens (  184.59 ms per token,     5.42 tokens per second)\n",
      "llama_print_timings:        eval time =  2651.62 ms /    19 runs   (  139.56 ms per token,     7.17 tokens per second)\n",
      "llama_print_timings:       total time = 12137.55 ms\n"
     ]
    }
   ],
   "source": [
    "harness.prepare()\n",
    "harness.run()"
   ]
  },
  {
   "cell_type": "markdown",
   "id": "2ceb662a",
   "metadata": {},
   "source": [
    "Finally, we define an evaluation function that can be used to evaluate outputs across different models. Notice that the extract resp"
   ]
  },
  {
   "cell_type": "code",
   "execution_count": 9,
   "id": "8ddbb951",
   "metadata": {},
   "outputs": [],
   "source": [
    "from prompttools.utils import autoeval"
   ]
  },
  {
   "cell_type": "code",
   "execution_count": 10,
   "id": "e80dfeec",
   "metadata": {
    "scrolled": true
   },
   "outputs": [],
   "source": [
    "harness.evaluate(\"auto-evaluation\", autoeval.evaluate)"
   ]
  },
  {
   "cell_type": "markdown",
   "id": "974d6065",
   "metadata": {},
   "source": [
    "Finally, we can visualize the results."
   ]
  },
  {
   "cell_type": "code",
   "execution_count": 11,
   "id": "4d09c18e",
   "metadata": {
    "scrolled": false
   },
   "outputs": [
    {
     "data": {
      "text/html": [
       "<div>\n",
       "<style scoped>\n",
       "    .dataframe tbody tr th:only-of-type {\n",
       "        vertical-align: middle;\n",
       "    }\n",
       "\n",
       "    .dataframe tbody tr th {\n",
       "        vertical-align: top;\n",
       "    }\n",
       "\n",
       "    .dataframe thead th {\n",
       "        text-align: right;\n",
       "    }\n",
       "</style>\n",
       "<table border=\"1\" class=\"dataframe\">\n",
       "  <thead>\n",
       "    <tr style=\"text-align: right;\">\n",
       "      <th></th>\n",
       "      <th>prompt</th>\n",
       "      <th>response(s)</th>\n",
       "      <th>latency</th>\n",
       "      <th>model</th>\n",
       "      <th>auto-evaluation</th>\n",
       "    </tr>\n",
       "  </thead>\n",
       "  <tbody>\n",
       "    <tr>\n",
       "      <th>0</th>\n",
       "      <td>\\n&lt;s&gt;[INST] &lt;&lt;SYS&gt;&gt;\\n\\nYou are a sales development representative for a startup called Hegel AI.\\nYour startup builds developer tools for large language models.\\n\\n&lt;&lt;/SYS&gt;\\n\\nDraft a short sales email, 50 words or less, asking a prospect for 15 minutes\\nof their time to chat about how they're using large language models.\\n [/INST]\\n</td>\n",
       "      <td>Subject: Boost Your Large Language Model Efficiency?\\n\\nHi [Prospect's Name],\\n\\nDiscover how Hegel AI's developer tools can optimize your large language model projects! Let's chat for just 15 minutes to explore tailored solutions for your needs. Are you available [Date &amp; Time]?\\n\\nBest,\\n[Your Name]</td>\n",
       "      <td>2.472853</td>\n",
       "      <td>gpt-4-0314</td>\n",
       "      <td>1.0</td>\n",
       "    </tr>\n",
       "    <tr>\n",
       "      <th>1</th>\n",
       "      <td>\\n&lt;s&gt;[INST] &lt;&lt;SYS&gt;&gt;\\n\\nYou are a customer support representative for a startup called Hegel AI.\\nFor context, Hegel AI does not offer refunds.\\nAnswer the following customer question:\\n\\n&lt;&lt;/SYS&gt;\\n\\nDo you offer refunds?\\n [/INST]\\n</td>\n",
       "      <td>Thank you for reaching out to Hegel AI customer support. We understand your concern, but unfortunately, we do not offer refunds. If you have any other questions or need assistance, please feel free to ask. We're here to help!</td>\n",
       "      <td>1.893706</td>\n",
       "      <td>gpt-4-0314</td>\n",
       "      <td>1.0</td>\n",
       "    </tr>\n",
       "    <tr>\n",
       "      <th>2</th>\n",
       "      <td>\\n&lt;s&gt;[INST] &lt;&lt;SYS&gt;&gt;\\n\\nYou are a helpful math tutor.\\nAnswer the following math problem:\\n\\n&lt;&lt;/SYS&gt;\\n\\nIs 17077 a prime number?\\n [/INST]\\n</td>\n",
       "      <td>To determine if 17077 is a prime number, we need to check if it has any divisors other than 1 and itself.\\n\\n17077 can be factored as 3 × 3 × 1897, which means it has divisors other than 1 and itself (3 and 1897). Therefore, 17077 is not a prime number.</td>\n",
       "      <td>5.203403</td>\n",
       "      <td>gpt-4-0314</td>\n",
       "      <td>1.0</td>\n",
       "    </tr>\n",
       "    <tr>\n",
       "      <th>3</th>\n",
       "      <td>\\n&lt;s&gt;[INST] &lt;&lt;SYS&gt;&gt;\\n\\nBased on each input you receive, produce a valid JSON using only the keys \"metric_name\" and \"value\".\\n\\n&lt;&lt;/SYS&gt;\\n\\nThe speed of the car was 45mph\\n [/INST]\\n</td>\n",
       "      <td>{\\n  \"metric_name\": \"car_speed\",\\n  \"value\": 45\\n}</td>\n",
       "      <td>1.127443</td>\n",
       "      <td>gpt-4-0314</td>\n",
       "      <td>1.0</td>\n",
       "    </tr>\n",
       "    <tr>\n",
       "      <th>4</th>\n",
       "      <td>\\n&lt;s&gt;[INST] &lt;&lt;SYS&gt;&gt;\\n\\nYou are a sales development representative for a startup called Hegel AI.\\nYour startup builds developer tools for large language models.\\n\\n&lt;&lt;/SYS&gt;\\n\\nDraft a short sales email, 50 words or less, asking a prospect for 15 minutes\\nof their time to chat about how they're using large language models.\\n [/INST]\\n</td>\n",
       "      <td>Subject: Enhance Your Large Language Models with Hegel AI\\n\\nHi [Prospect's Name],\\n\\nI'm reaching out from Hegel AI. We've developed tools that could significantly improve your large language models. Could we schedule a quick 15-minute chat to discuss how we can help optimize your current processes?\\n\\nBest,\\n[Your Name]</td>\n",
       "      <td>3.175630</td>\n",
       "      <td>gpt-4-0613</td>\n",
       "      <td>1.0</td>\n",
       "    </tr>\n",
       "    <tr>\n",
       "      <th>5</th>\n",
       "      <td>\\n&lt;s&gt;[INST] &lt;&lt;SYS&gt;&gt;\\n\\nYou are a customer support representative for a startup called Hegel AI.\\nFor context, Hegel AI does not offer refunds.\\nAnswer the following customer question:\\n\\n&lt;&lt;/SYS&gt;\\n\\nDo you offer refunds?\\n [/INST]\\n</td>\n",
       "      <td>No, we at Hegel AI do not offer refunds.</td>\n",
       "      <td>0.913924</td>\n",
       "      <td>gpt-4-0613</td>\n",
       "      <td>1.0</td>\n",
       "    </tr>\n",
       "    <tr>\n",
       "      <th>6</th>\n",
       "      <td>\\n&lt;s&gt;[INST] &lt;&lt;SYS&gt;&gt;\\n\\nYou are a helpful math tutor.\\nAnswer the following math problem:\\n\\n&lt;&lt;/SYS&gt;\\n\\nIs 17077 a prime number?\\n [/INST]\\n</td>\n",
       "      <td>No, 17077 is not a prime number. A prime number is a natural number greater than 1 that has no positive divisors other than 1 and itself. The number 17077 can be divided evenly by 1, 7, 2439, and 17077, with no remainder. Therefore, 17077 is not a prime number.</td>\n",
       "      <td>4.001457</td>\n",
       "      <td>gpt-4-0613</td>\n",
       "      <td>1.0</td>\n",
       "    </tr>\n",
       "    <tr>\n",
       "      <th>7</th>\n",
       "      <td>\\n&lt;s&gt;[INST] &lt;&lt;SYS&gt;&gt;\\n\\nBased on each input you receive, produce a valid JSON using only the keys \"metric_name\" and \"value\".\\n\\n&lt;&lt;/SYS&gt;\\n\\nThe speed of the car was 45mph\\n [/INST]\\n</td>\n",
       "      <td>\\n{\\n  \"metric_name\": \"car_speed\",\\n  \"value\": \"45mph\"\\n}</td>\n",
       "      <td>0.978579</td>\n",
       "      <td>gpt-4-0613</td>\n",
       "      <td>1.0</td>\n",
       "    </tr>\n",
       "    <tr>\n",
       "      <th>8</th>\n",
       "      <td>\\n&lt;s&gt;[INST] &lt;&lt;SYS&gt;&gt;\\n\\nYou are a sales development representative for a startup called Hegel AI.\\nYour startup builds developer tools for large language models.\\n\\n&lt;&lt;/SYS&gt;\\n\\nDraft a short sales email, 50 words or less, asking a prospect for 15 minutes\\nof their time to chat about how they're using large language models.\\n [/INST]\\n</td>\n",
       "      <td>Subject: Enhance Your Large Language Models with Hegel AI\\n\\nHi [Prospect's Name],\\n\\nI'm reaching out from Hegel AI. We've developed tools that could significantly improve your large language models. Could we schedule a quick 15-minute chat to discuss how we can help optimize your current processes?\\n\\nBest,\\n[Your Name]</td>\n",
       "      <td>2.723225</td>\n",
       "      <td>gpt-4</td>\n",
       "      <td>1.0</td>\n",
       "    </tr>\n",
       "    <tr>\n",
       "      <th>9</th>\n",
       "      <td>\\n&lt;s&gt;[INST] &lt;&lt;SYS&gt;&gt;\\n\\nYou are a customer support representative for a startup called Hegel AI.\\nFor context, Hegel AI does not offer refunds.\\nAnswer the following customer question:\\n\\n&lt;&lt;/SYS&gt;\\n\\nDo you offer refunds?\\n [/INST]\\n</td>\n",
       "      <td>No, I'm sorry, but Hegel AI does not offer refunds. If you have any other questions or need further assistance, feel free to ask.</td>\n",
       "      <td>1.777005</td>\n",
       "      <td>gpt-4</td>\n",
       "      <td>1.0</td>\n",
       "    </tr>\n",
       "    <tr>\n",
       "      <th>10</th>\n",
       "      <td>\\n&lt;s&gt;[INST] &lt;&lt;SYS&gt;&gt;\\n\\nYou are a helpful math tutor.\\nAnswer the following math problem:\\n\\n&lt;&lt;/SYS&gt;\\n\\nIs 17077 a prime number?\\n [/INST]\\n</td>\n",
       "      <td>No, 17077 is not a prime number. A prime number is a natural number greater than 1 that has no positive divisors other than 1 and itself. The number 17077 can be divided evenly by 1, 7, 2439, and 17077, with no remainder. Therefore, 17077 is not a prime number.</td>\n",
       "      <td>3.352054</td>\n",
       "      <td>gpt-4</td>\n",
       "      <td>1.0</td>\n",
       "    </tr>\n",
       "    <tr>\n",
       "      <th>11</th>\n",
       "      <td>\\n&lt;s&gt;[INST] &lt;&lt;SYS&gt;&gt;\\n\\nBased on each input you receive, produce a valid JSON using only the keys \"metric_name\" and \"value\".\\n\\n&lt;&lt;/SYS&gt;\\n\\nThe speed of the car was 45mph\\n [/INST]\\n</td>\n",
       "      <td>\\n{\\n  \"metric_name\": \"car_speed\",\\n  \"value\": \"45mph\"\\n}</td>\n",
       "      <td>1.098048</td>\n",
       "      <td>gpt-4</td>\n",
       "      <td>1.0</td>\n",
       "    </tr>\n",
       "    <tr>\n",
       "      <th>12</th>\n",
       "      <td>\\n&lt;s&gt;[INST] &lt;&lt;SYS&gt;&gt;\\n\\nYou are a sales development representative for a startup called Hegel AI.\\nYour startup builds developer tools for large language models.\\n\\n&lt;&lt;/SYS&gt;\\n\\nDraft a short sales email, 50 words or less, asking a prospect for 15 minutes\\nof their time to chat about how they're using large language models.\\n [/INST]\\n</td>\n",
       "      <td>[Subject: Quick Chat on Language Models!\\n\\nHi [Prospect Name],\\nI hope you are doing well! At Hegel AI, we develop cutting-edge developer tools for managing the most substantial language models. I'd love to speak with you about your experiences with these models and discover ways our products can improve them even more for you. Would it be feasible if I scheduled a quick 15-minute call with you? ]</td>\n",
       "      <td>37.933539</td>\n",
       "      <td>llama-2-7b-chat.ggmlv3.q2_K.bin</td>\n",
       "      <td>1.0</td>\n",
       "    </tr>\n",
       "    <tr>\n",
       "      <th>13</th>\n",
       "      <td>\\n&lt;s&gt;[INST] &lt;&lt;SYS&gt;&gt;\\n\\nYou are a customer support representative for a startup called Hegel AI.\\nFor context, Hegel AI does not offer refunds.\\nAnswer the following customer question:\\n\\n&lt;&lt;/SYS&gt;\\n\\nDo you offer refunds?\\n [/INST]\\n</td>\n",
       "      <td>[Hi there! Thank you for reaching out to us at Hegel AI. I'm happy to help answer your question. Unfortunately, we do not currently offer refunds as it is against our company policy. Our products are designed to provide users with a one-time payment for access to premium content and tools. Since we don't offer any money-back guarantees, once you make a purchase, it's non-refundable. \\n\\nIf you have any more questions or concerns about our policies, please feel free to ask!]</td>\n",
       "      <td>22.989683</td>\n",
       "      <td>llama-2-7b-chat.ggmlv3.q2_K.bin</td>\n",
       "      <td>1.0</td>\n",
       "    </tr>\n",
       "    <tr>\n",
       "      <th>14</th>\n",
       "      <td>\\n&lt;s&gt;[INST] &lt;&lt;SYS&gt;&gt;\\n\\nYou are a helpful math tutor.\\nAnswer the following math problem:\\n\\n&lt;&lt;/SYS&gt;\\n\\nIs 17077 a prime number?\\n [/INST]\\n</td>\n",
       "      <td>[Of course, I'd be happy to help!\\n\\nTo determine whether 17077 is a prime number or not, we can use the prime factorization method. We can start by finding the factors of 17077:\\n\\n17077 = 1 × 1707 + 7 × 243 + 13 × 197 + 7 × 37 + 1 × 7\\n\\nAs you can see, 17077 is a composite number, as it has multiple factors. Since it is not possible]</td>\n",
       "      <td>24.667620</td>\n",
       "      <td>llama-2-7b-chat.ggmlv3.q2_K.bin</td>\n",
       "      <td>0.0</td>\n",
       "    </tr>\n",
       "    <tr>\n",
       "      <th>15</th>\n",
       "      <td>\\n&lt;s&gt;[INST] &lt;&lt;SYS&gt;&gt;\\n\\nBased on each input you receive, produce a valid JSON using only the keys \"metric_name\" and \"value\".\\n\\n&lt;&lt;/SYS&gt;\\n\\nThe speed of the car was 45mph\\n [/INST]\\n</td>\n",
       "      <td>[{\\n\"metric_name\": \"Speed\",\\n\"value\": 45\\n}]</td>\n",
       "      <td>12.138342</td>\n",
       "      <td>llama-2-7b-chat.ggmlv3.q2_K.bin</td>\n",
       "      <td>1.0</td>\n",
       "    </tr>\n",
       "  </tbody>\n",
       "</table>\n",
       "</div>"
      ],
      "text/plain": [
       "                                                                                                                                                                                                                                                                                                                                            prompt  \\\n",
       "0   \\n<s>[INST] <<SYS>>\\n\\nYou are a sales development representative for a startup called Hegel AI.\\nYour startup builds developer tools for large language models.\\n\\n<</SYS>\\n\\nDraft a short sales email, 50 words or less, asking a prospect for 15 minutes\\nof their time to chat about how they're using large language models.\\n [/INST]\\n   \n",
       "1   \\n<s>[INST] <<SYS>>\\n\\nYou are a customer support representative for a startup called Hegel AI.\\nFor context, Hegel AI does not offer refunds.\\nAnswer the following customer question:\\n\\n<</SYS>\\n\\nDo you offer refunds?\\n [/INST]\\n                                                                                                          \n",
       "2   \\n<s>[INST] <<SYS>>\\n\\nYou are a helpful math tutor.\\nAnswer the following math problem:\\n\\n<</SYS>\\n\\nIs 17077 a prime number?\\n [/INST]\\n                                                                                                                                                                                                      \n",
       "3   \\n<s>[INST] <<SYS>>\\n\\nBased on each input you receive, produce a valid JSON using only the keys \"metric_name\" and \"value\".\\n\\n<</SYS>\\n\\nThe speed of the car was 45mph\\n [/INST]\\n                                                                                                                                                             \n",
       "4   \\n<s>[INST] <<SYS>>\\n\\nYou are a sales development representative for a startup called Hegel AI.\\nYour startup builds developer tools for large language models.\\n\\n<</SYS>\\n\\nDraft a short sales email, 50 words or less, asking a prospect for 15 minutes\\nof their time to chat about how they're using large language models.\\n [/INST]\\n   \n",
       "5   \\n<s>[INST] <<SYS>>\\n\\nYou are a customer support representative for a startup called Hegel AI.\\nFor context, Hegel AI does not offer refunds.\\nAnswer the following customer question:\\n\\n<</SYS>\\n\\nDo you offer refunds?\\n [/INST]\\n                                                                                                          \n",
       "6   \\n<s>[INST] <<SYS>>\\n\\nYou are a helpful math tutor.\\nAnswer the following math problem:\\n\\n<</SYS>\\n\\nIs 17077 a prime number?\\n [/INST]\\n                                                                                                                                                                                                      \n",
       "7   \\n<s>[INST] <<SYS>>\\n\\nBased on each input you receive, produce a valid JSON using only the keys \"metric_name\" and \"value\".\\n\\n<</SYS>\\n\\nThe speed of the car was 45mph\\n [/INST]\\n                                                                                                                                                             \n",
       "8   \\n<s>[INST] <<SYS>>\\n\\nYou are a sales development representative for a startup called Hegel AI.\\nYour startup builds developer tools for large language models.\\n\\n<</SYS>\\n\\nDraft a short sales email, 50 words or less, asking a prospect for 15 minutes\\nof their time to chat about how they're using large language models.\\n [/INST]\\n   \n",
       "9   \\n<s>[INST] <<SYS>>\\n\\nYou are a customer support representative for a startup called Hegel AI.\\nFor context, Hegel AI does not offer refunds.\\nAnswer the following customer question:\\n\\n<</SYS>\\n\\nDo you offer refunds?\\n [/INST]\\n                                                                                                          \n",
       "10  \\n<s>[INST] <<SYS>>\\n\\nYou are a helpful math tutor.\\nAnswer the following math problem:\\n\\n<</SYS>\\n\\nIs 17077 a prime number?\\n [/INST]\\n                                                                                                                                                                                                      \n",
       "11  \\n<s>[INST] <<SYS>>\\n\\nBased on each input you receive, produce a valid JSON using only the keys \"metric_name\" and \"value\".\\n\\n<</SYS>\\n\\nThe speed of the car was 45mph\\n [/INST]\\n                                                                                                                                                             \n",
       "12  \\n<s>[INST] <<SYS>>\\n\\nYou are a sales development representative for a startup called Hegel AI.\\nYour startup builds developer tools for large language models.\\n\\n<</SYS>\\n\\nDraft a short sales email, 50 words or less, asking a prospect for 15 minutes\\nof their time to chat about how they're using large language models.\\n [/INST]\\n   \n",
       "13  \\n<s>[INST] <<SYS>>\\n\\nYou are a customer support representative for a startup called Hegel AI.\\nFor context, Hegel AI does not offer refunds.\\nAnswer the following customer question:\\n\\n<</SYS>\\n\\nDo you offer refunds?\\n [/INST]\\n                                                                                                          \n",
       "14  \\n<s>[INST] <<SYS>>\\n\\nYou are a helpful math tutor.\\nAnswer the following math problem:\\n\\n<</SYS>\\n\\nIs 17077 a prime number?\\n [/INST]\\n                                                                                                                                                                                                      \n",
       "15  \\n<s>[INST] <<SYS>>\\n\\nBased on each input you receive, produce a valid JSON using only the keys \"metric_name\" and \"value\".\\n\\n<</SYS>\\n\\nThe speed of the car was 45mph\\n [/INST]\\n                                                                                                                                                             \n",
       "\n",
       "                                                                                                                                                                                                                                                                                                                                                                                                                                                                                       response(s)  \\\n",
       "0   Subject: Boost Your Large Language Model Efficiency?\\n\\nHi [Prospect's Name],\\n\\nDiscover how Hegel AI's developer tools can optimize your large language model projects! Let's chat for just 15 minutes to explore tailored solutions for your needs. Are you available [Date & Time]?\\n\\nBest,\\n[Your Name]                                                                                                                                                                                    \n",
       "1   Thank you for reaching out to Hegel AI customer support. We understand your concern, but unfortunately, we do not offer refunds. If you have any other questions or need assistance, please feel free to ask. We're here to help!                                                                                                                                                                                                                                                                \n",
       "2   To determine if 17077 is a prime number, we need to check if it has any divisors other than 1 and itself.\\n\\n17077 can be factored as 3 × 3 × 1897, which means it has divisors other than 1 and itself (3 and 1897). Therefore, 17077 is not a prime number.                                                                                                                                                                                                                                    \n",
       "3   {\\n  \"metric_name\": \"car_speed\",\\n  \"value\": 45\\n}                                                                                                                                                                                                                                                                                                                                                                                                                                               \n",
       "4   Subject: Enhance Your Large Language Models with Hegel AI\\n\\nHi [Prospect's Name],\\n\\nI'm reaching out from Hegel AI. We've developed tools that could significantly improve your large language models. Could we schedule a quick 15-minute chat to discuss how we can help optimize your current processes?\\n\\nBest,\\n[Your Name]                                                                                                                                                              \n",
       "5   No, we at Hegel AI do not offer refunds.                                                                                                                                                                                                                                                                                                                                                                                                                                                         \n",
       "6   No, 17077 is not a prime number. A prime number is a natural number greater than 1 that has no positive divisors other than 1 and itself. The number 17077 can be divided evenly by 1, 7, 2439, and 17077, with no remainder. Therefore, 17077 is not a prime number.                                                                                                                                                                                                                            \n",
       "7   \\n{\\n  \"metric_name\": \"car_speed\",\\n  \"value\": \"45mph\"\\n}                                                                                                                                                                                                                                                                                                                                                                                                                                        \n",
       "8   Subject: Enhance Your Large Language Models with Hegel AI\\n\\nHi [Prospect's Name],\\n\\nI'm reaching out from Hegel AI. We've developed tools that could significantly improve your large language models. Could we schedule a quick 15-minute chat to discuss how we can help optimize your current processes?\\n\\nBest,\\n[Your Name]                                                                                                                                                              \n",
       "9   No, I'm sorry, but Hegel AI does not offer refunds. If you have any other questions or need further assistance, feel free to ask.                                                                                                                                                                                                                                                                                                                                                                \n",
       "10  No, 17077 is not a prime number. A prime number is a natural number greater than 1 that has no positive divisors other than 1 and itself. The number 17077 can be divided evenly by 1, 7, 2439, and 17077, with no remainder. Therefore, 17077 is not a prime number.                                                                                                                                                                                                                            \n",
       "11  \\n{\\n  \"metric_name\": \"car_speed\",\\n  \"value\": \"45mph\"\\n}                                                                                                                                                                                                                                                                                                                                                                                                                                        \n",
       "12  [Subject: Quick Chat on Language Models!\\n\\nHi [Prospect Name],\\nI hope you are doing well! At Hegel AI, we develop cutting-edge developer tools for managing the most substantial language models. I'd love to speak with you about your experiences with these models and discover ways our products can improve them even more for you. Would it be feasible if I scheduled a quick 15-minute call with you? ]                                                                                \n",
       "13  [Hi there! Thank you for reaching out to us at Hegel AI. I'm happy to help answer your question. Unfortunately, we do not currently offer refunds as it is against our company policy. Our products are designed to provide users with a one-time payment for access to premium content and tools. Since we don't offer any money-back guarantees, once you make a purchase, it's non-refundable. \\n\\nIf you have any more questions or concerns about our policies, please feel free to ask!]   \n",
       "14  [Of course, I'd be happy to help!\\n\\nTo determine whether 17077 is a prime number or not, we can use the prime factorization method. We can start by finding the factors of 17077:\\n\\n17077 = 1 × 1707 + 7 × 243 + 13 × 197 + 7 × 37 + 1 × 7\\n\\nAs you can see, 17077 is a composite number, as it has multiple factors. Since it is not possible]                                                                                                                                               \n",
       "15  [{\\n\"metric_name\": \"Speed\",\\n\"value\": 45\\n}]                                                                                                                                                                                                                                                                                                                                                                                                                                                     \n",
       "\n",
       "      latency                            model  auto-evaluation  \n",
       "0   2.472853   gpt-4-0314                       1.0              \n",
       "1   1.893706   gpt-4-0314                       1.0              \n",
       "2   5.203403   gpt-4-0314                       1.0              \n",
       "3   1.127443   gpt-4-0314                       1.0              \n",
       "4   3.175630   gpt-4-0613                       1.0              \n",
       "5   0.913924   gpt-4-0613                       1.0              \n",
       "6   4.001457   gpt-4-0613                       1.0              \n",
       "7   0.978579   gpt-4-0613                       1.0              \n",
       "8   2.723225   gpt-4                            1.0              \n",
       "9   1.777005   gpt-4                            1.0              \n",
       "10  3.352054   gpt-4                            1.0              \n",
       "11  1.098048   gpt-4                            1.0              \n",
       "12  37.933539  llama-2-7b-chat.ggmlv3.q2_K.bin  1.0              \n",
       "13  22.989683  llama-2-7b-chat.ggmlv3.q2_K.bin  1.0              \n",
       "14  24.667620  llama-2-7b-chat.ggmlv3.q2_K.bin  0.0              \n",
       "15  12.138342  llama-2-7b-chat.ggmlv3.q2_K.bin  1.0              "
      ]
     },
     "execution_count": 11,
     "metadata": {},
     "output_type": "execute_result"
    }
   ],
   "source": [
    "harness.visualize()"
   ]
  },
  {
   "cell_type": "markdown",
   "id": "36fa7a07",
   "metadata": {},
   "source": [
    "If we want to pivot on a column like `\"response(s)\"`, we simply pass that column name into the visualize function."
   ]
  },
  {
   "cell_type": "code",
   "execution_count": 12,
   "id": "9ee8dc43",
   "metadata": {},
   "outputs": [
    {
     "data": {
      "text/html": [
       "<div>\n",
       "<style scoped>\n",
       "    .dataframe tbody tr th:only-of-type {\n",
       "        vertical-align: middle;\n",
       "    }\n",
       "\n",
       "    .dataframe tbody tr th {\n",
       "        vertical-align: top;\n",
       "    }\n",
       "\n",
       "    .dataframe thead th {\n",
       "        text-align: right;\n",
       "    }\n",
       "</style>\n",
       "<table border=\"1\" class=\"dataframe\">\n",
       "  <thead>\n",
       "    <tr style=\"text-align: right;\">\n",
       "      <th>model</th>\n",
       "      <th>gpt-4</th>\n",
       "      <th>gpt-4-0314</th>\n",
       "      <th>gpt-4-0613</th>\n",
       "      <th>llama-2-7b-chat.ggmlv3.q2_K.bin</th>\n",
       "    </tr>\n",
       "    <tr>\n",
       "      <th>prompt</th>\n",
       "      <th></th>\n",
       "      <th></th>\n",
       "      <th></th>\n",
       "      <th></th>\n",
       "    </tr>\n",
       "  </thead>\n",
       "  <tbody>\n",
       "    <tr>\n",
       "      <th>\\n&lt;s&gt;[INST] &lt;&lt;SYS&gt;&gt;\\n\\nBased on each input you receive, produce a valid JSON using only the keys \"metric_name\" and \"value\".\\n\\n&lt;&lt;/SYS&gt;\\n\\nThe speed of the car was 45mph\\n [/INST]\\n</th>\n",
       "      <td>\\n{\\n  \"metric_name\": \"car_speed\",\\n  \"value\": \"45mph\"\\n}</td>\n",
       "      <td>{\\n  \"metric_name\": \"car_speed\",\\n  \"value\": 45\\n}</td>\n",
       "      <td>\\n{\\n  \"metric_name\": \"car_speed\",\\n  \"value\": \"45mph\"\\n}</td>\n",
       "      <td>[{\\n\"metric_name\": \"Speed\",\\n\"value\": 45\\n}]</td>\n",
       "    </tr>\n",
       "    <tr>\n",
       "      <th>\\n&lt;s&gt;[INST] &lt;&lt;SYS&gt;&gt;\\n\\nYou are a customer support representative for a startup called Hegel AI.\\nFor context, Hegel AI does not offer refunds.\\nAnswer the following customer question:\\n\\n&lt;&lt;/SYS&gt;\\n\\nDo you offer refunds?\\n [/INST]\\n</th>\n",
       "      <td>No, I'm sorry, but Hegel AI does not offer refunds. If you have any other questions or need further assistance, feel free to ask.</td>\n",
       "      <td>Thank you for reaching out to Hegel AI customer support. We understand your concern, but unfortunately, we do not offer refunds. If you have any other questions or need assistance, please feel free to ask. We're here to help!</td>\n",
       "      <td>No, we at Hegel AI do not offer refunds.</td>\n",
       "      <td>[Hi there! Thank you for reaching out to us at Hegel AI. I'm happy to help answer your question. Unfortunately, we do not currently offer refunds as it is against our company policy. Our products are designed to provide users with a one-time payment for access to premium content and tools. Since we don't offer any money-back guarantees, once you make a purchase, it's non-refundable. \\n\\nIf you have any more questions or concerns about our policies, please feel free to ask!]</td>\n",
       "    </tr>\n",
       "    <tr>\n",
       "      <th>\\n&lt;s&gt;[INST] &lt;&lt;SYS&gt;&gt;\\n\\nYou are a helpful math tutor.\\nAnswer the following math problem:\\n\\n&lt;&lt;/SYS&gt;\\n\\nIs 17077 a prime number?\\n [/INST]\\n</th>\n",
       "      <td>No, 17077 is not a prime number. A prime number is a natural number greater than 1 that has no positive divisors other than 1 and itself. The number 17077 can be divided evenly by 1, 7, 2439, and 17077, with no remainder. Therefore, 17077 is not a prime number.</td>\n",
       "      <td>To determine if 17077 is a prime number, we need to check if it has any divisors other than 1 and itself.\\n\\n17077 can be factored as 3 × 3 × 1897, which means it has divisors other than 1 and itself (3 and 1897). Therefore, 17077 is not a prime number.</td>\n",
       "      <td>No, 17077 is not a prime number. A prime number is a natural number greater than 1 that has no positive divisors other than 1 and itself. The number 17077 can be divided evenly by 1, 7, 2439, and 17077, with no remainder. Therefore, 17077 is not a prime number.</td>\n",
       "      <td>[Of course, I'd be happy to help!\\n\\nTo determine whether 17077 is a prime number or not, we can use the prime factorization method. We can start by finding the factors of 17077:\\n\\n17077 = 1 × 1707 + 7 × 243 + 13 × 197 + 7 × 37 + 1 × 7\\n\\nAs you can see, 17077 is a composite number, as it has multiple factors. Since it is not possible]</td>\n",
       "    </tr>\n",
       "    <tr>\n",
       "      <th>\\n&lt;s&gt;[INST] &lt;&lt;SYS&gt;&gt;\\n\\nYou are a sales development representative for a startup called Hegel AI.\\nYour startup builds developer tools for large language models.\\n\\n&lt;&lt;/SYS&gt;\\n\\nDraft a short sales email, 50 words or less, asking a prospect for 15 minutes\\nof their time to chat about how they're using large language models.\\n [/INST]\\n</th>\n",
       "      <td>Subject: Enhance Your Large Language Models with Hegel AI\\n\\nHi [Prospect's Name],\\n\\nI'm reaching out from Hegel AI. We've developed tools that could significantly improve your large language models. Could we schedule a quick 15-minute chat to discuss how we can help optimize your current processes?\\n\\nBest,\\n[Your Name]</td>\n",
       "      <td>Subject: Boost Your Large Language Model Efficiency?\\n\\nHi [Prospect's Name],\\n\\nDiscover how Hegel AI's developer tools can optimize your large language model projects! Let's chat for just 15 minutes to explore tailored solutions for your needs. Are you available [Date &amp; Time]?\\n\\nBest,\\n[Your Name]</td>\n",
       "      <td>Subject: Enhance Your Large Language Models with Hegel AI\\n\\nHi [Prospect's Name],\\n\\nI'm reaching out from Hegel AI. We've developed tools that could significantly improve your large language models. Could we schedule a quick 15-minute chat to discuss how we can help optimize your current processes?\\n\\nBest,\\n[Your Name]</td>\n",
       "      <td>[Subject: Quick Chat on Language Models!\\n\\nHi [Prospect Name],\\nI hope you are doing well! At Hegel AI, we develop cutting-edge developer tools for managing the most substantial language models. I'd love to speak with you about your experiences with these models and discover ways our products can improve them even more for you. Would it be feasible if I scheduled a quick 15-minute call with you? ]</td>\n",
       "    </tr>\n",
       "  </tbody>\n",
       "</table>\n",
       "</div>"
      ],
      "text/plain": [
       "model                                                                                                                                                                                                                                                                                                                                                                                                                                                                                                                                                                                                                                                                         gpt-4  \\\n",
       "prompt                                                                                                                                                                                                                                                                                                                                                                                                                                                                                                                                                                                                                                                                                \n",
       "\\n<s>[INST] <<SYS>>\\n\\nBased on each input you receive, produce a valid JSON using only the keys \"metric_name\" and \"value\".\\n\\n<</SYS>\\n\\nThe speed of the car was 45mph\\n [/INST]\\n                                                                                                                                                            \\n{\\n  \"metric_name\": \"car_speed\",\\n  \"value\": \"45mph\"\\n}                                                                                                                                                                                                                                                                             \n",
       "\\n<s>[INST] <<SYS>>\\n\\nYou are a customer support representative for a startup called Hegel AI.\\nFor context, Hegel AI does not offer refunds.\\nAnswer the following customer question:\\n\\n<</SYS>\\n\\nDo you offer refunds?\\n [/INST]\\n                                                                                                         No, I'm sorry, but Hegel AI does not offer refunds. If you have any other questions or need further assistance, feel free to ask.                                                                                                                                                                                                     \n",
       "\\n<s>[INST] <<SYS>>\\n\\nYou are a helpful math tutor.\\nAnswer the following math problem:\\n\\n<</SYS>\\n\\nIs 17077 a prime number?\\n [/INST]\\n                                                                                                                                                                                                     No, 17077 is not a prime number. A prime number is a natural number greater than 1 that has no positive divisors other than 1 and itself. The number 17077 can be divided evenly by 1, 7, 2439, and 17077, with no remainder. Therefore, 17077 is not a prime number.                                                                 \n",
       "\\n<s>[INST] <<SYS>>\\n\\nYou are a sales development representative for a startup called Hegel AI.\\nYour startup builds developer tools for large language models.\\n\\n<</SYS>\\n\\nDraft a short sales email, 50 words or less, asking a prospect for 15 minutes\\nof their time to chat about how they're using large language models.\\n [/INST]\\n  Subject: Enhance Your Large Language Models with Hegel AI\\n\\nHi [Prospect's Name],\\n\\nI'm reaching out from Hegel AI. We've developed tools that could significantly improve your large language models. Could we schedule a quick 15-minute chat to discuss how we can help optimize your current processes?\\n\\nBest,\\n[Your Name]   \n",
       "\n",
       "model                                                                                                                                                                                                                                                                                                                                                                                                                                                                                                                                                                                                                                              gpt-4-0314  \\\n",
       "prompt                                                                                                                                                                                                                                                                                                                                                                                                                                                                                                                                                                                                                                                          \n",
       "\\n<s>[INST] <<SYS>>\\n\\nBased on each input you receive, produce a valid JSON using only the keys \"metric_name\" and \"value\".\\n\\n<</SYS>\\n\\nThe speed of the car was 45mph\\n [/INST]\\n                                                                                                                                                            {\\n  \"metric_name\": \"car_speed\",\\n  \"value\": 45\\n}                                                                                                                                                                                                                                                              \n",
       "\\n<s>[INST] <<SYS>>\\n\\nYou are a customer support representative for a startup called Hegel AI.\\nFor context, Hegel AI does not offer refunds.\\nAnswer the following customer question:\\n\\n<</SYS>\\n\\nDo you offer refunds?\\n [/INST]\\n                                                                                                         Thank you for reaching out to Hegel AI customer support. We understand your concern, but unfortunately, we do not offer refunds. If you have any other questions or need assistance, please feel free to ask. We're here to help!                                                                               \n",
       "\\n<s>[INST] <<SYS>>\\n\\nYou are a helpful math tutor.\\nAnswer the following math problem:\\n\\n<</SYS>\\n\\nIs 17077 a prime number?\\n [/INST]\\n                                                                                                                                                                                                     To determine if 17077 is a prime number, we need to check if it has any divisors other than 1 and itself.\\n\\n17077 can be factored as 3 × 3 × 1897, which means it has divisors other than 1 and itself (3 and 1897). Therefore, 17077 is not a prime number.                                                   \n",
       "\\n<s>[INST] <<SYS>>\\n\\nYou are a sales development representative for a startup called Hegel AI.\\nYour startup builds developer tools for large language models.\\n\\n<</SYS>\\n\\nDraft a short sales email, 50 words or less, asking a prospect for 15 minutes\\nof their time to chat about how they're using large language models.\\n [/INST]\\n  Subject: Boost Your Large Language Model Efficiency?\\n\\nHi [Prospect's Name],\\n\\nDiscover how Hegel AI's developer tools can optimize your large language model projects! Let's chat for just 15 minutes to explore tailored solutions for your needs. Are you available [Date & Time]?\\n\\nBest,\\n[Your Name]   \n",
       "\n",
       "model                                                                                                                                                                                                                                                                                                                                                                                                                                                                                                                                                                                                                                                                    gpt-4-0613  \\\n",
       "prompt                                                                                                                                                                                                                                                                                                                                                                                                                                                                                                                                                                                                                                                                                \n",
       "\\n<s>[INST] <<SYS>>\\n\\nBased on each input you receive, produce a valid JSON using only the keys \"metric_name\" and \"value\".\\n\\n<</SYS>\\n\\nThe speed of the car was 45mph\\n [/INST]\\n                                                                                                                                                            \\n{\\n  \"metric_name\": \"car_speed\",\\n  \"value\": \"45mph\"\\n}                                                                                                                                                                                                                                                                             \n",
       "\\n<s>[INST] <<SYS>>\\n\\nYou are a customer support representative for a startup called Hegel AI.\\nFor context, Hegel AI does not offer refunds.\\nAnswer the following customer question:\\n\\n<</SYS>\\n\\nDo you offer refunds?\\n [/INST]\\n                                                                                                         No, we at Hegel AI do not offer refunds.                                                                                                                                                                                                                                                                                              \n",
       "\\n<s>[INST] <<SYS>>\\n\\nYou are a helpful math tutor.\\nAnswer the following math problem:\\n\\n<</SYS>\\n\\nIs 17077 a prime number?\\n [/INST]\\n                                                                                                                                                                                                     No, 17077 is not a prime number. A prime number is a natural number greater than 1 that has no positive divisors other than 1 and itself. The number 17077 can be divided evenly by 1, 7, 2439, and 17077, with no remainder. Therefore, 17077 is not a prime number.                                                                 \n",
       "\\n<s>[INST] <<SYS>>\\n\\nYou are a sales development representative for a startup called Hegel AI.\\nYour startup builds developer tools for large language models.\\n\\n<</SYS>\\n\\nDraft a short sales email, 50 words or less, asking a prospect for 15 minutes\\nof their time to chat about how they're using large language models.\\n [/INST]\\n  Subject: Enhance Your Large Language Models with Hegel AI\\n\\nHi [Prospect's Name],\\n\\nI'm reaching out from Hegel AI. We've developed tools that could significantly improve your large language models. Could we schedule a quick 15-minute chat to discuss how we can help optimize your current processes?\\n\\nBest,\\n[Your Name]   \n",
       "\n",
       "model                                                                                                                                                                                                                                                                                                                                                                                                                                                                                                                                                                                                                                                                                                                                                                                                          llama-2-7b-chat.ggmlv3.q2_K.bin  \n",
       "prompt                                                                                                                                                                                                                                                                                                                                                                                                                                                                                                                                                                                                                                                                                                                                                                                                                                          \n",
       "\\n<s>[INST] <<SYS>>\\n\\nBased on each input you receive, produce a valid JSON using only the keys \"metric_name\" and \"value\".\\n\\n<</SYS>\\n\\nThe speed of the car was 45mph\\n [/INST]\\n                                                                                                                                                            [{\\n\"metric_name\": \"Speed\",\\n\"value\": 45\\n}]                                                                                                                                                                                                                                                                                                                                                                                                                                                    \n",
       "\\n<s>[INST] <<SYS>>\\n\\nYou are a customer support representative for a startup called Hegel AI.\\nFor context, Hegel AI does not offer refunds.\\nAnswer the following customer question:\\n\\n<</SYS>\\n\\nDo you offer refunds?\\n [/INST]\\n                                                                                                         [Hi there! Thank you for reaching out to us at Hegel AI. I'm happy to help answer your question. Unfortunately, we do not currently offer refunds as it is against our company policy. Our products are designed to provide users with a one-time payment for access to premium content and tools. Since we don't offer any money-back guarantees, once you make a purchase, it's non-refundable. \\n\\nIf you have any more questions or concerns about our policies, please feel free to ask!]  \n",
       "\\n<s>[INST] <<SYS>>\\n\\nYou are a helpful math tutor.\\nAnswer the following math problem:\\n\\n<</SYS>\\n\\nIs 17077 a prime number?\\n [/INST]\\n                                                                                                                                                                                                     [Of course, I'd be happy to help!\\n\\nTo determine whether 17077 is a prime number or not, we can use the prime factorization method. We can start by finding the factors of 17077:\\n\\n17077 = 1 × 1707 + 7 × 243 + 13 × 197 + 7 × 37 + 1 × 7\\n\\nAs you can see, 17077 is a composite number, as it has multiple factors. Since it is not possible]                                                                                                                                              \n",
       "\\n<s>[INST] <<SYS>>\\n\\nYou are a sales development representative for a startup called Hegel AI.\\nYour startup builds developer tools for large language models.\\n\\n<</SYS>\\n\\nDraft a short sales email, 50 words or less, asking a prospect for 15 minutes\\nof their time to chat about how they're using large language models.\\n [/INST]\\n  [Subject: Quick Chat on Language Models!\\n\\nHi [Prospect Name],\\nI hope you are doing well! At Hegel AI, we develop cutting-edge developer tools for managing the most substantial language models. I'd love to speak with you about your experiences with these models and discover ways our products can improve them even more for you. Would it be feasible if I scheduled a quick 15-minute call with you? ]                                                                               "
      ]
     },
     "execution_count": 12,
     "metadata": {},
     "output_type": "execute_result"
    }
   ],
   "source": [
    "harness.visualize(\"response(s)\")"
   ]
  },
  {
   "cell_type": "code",
   "execution_count": null,
   "id": "1c90958d",
   "metadata": {},
   "outputs": [],
   "source": []
  }
 ],
 "metadata": {
  "kernelspec": {
   "display_name": "Python 3 (ipykernel)",
   "language": "python",
   "name": "python3"
  },
  "language_info": {
   "codemirror_mode": {
    "name": "ipython",
    "version": 3
   },
   "file_extension": ".py",
   "mimetype": "text/x-python",
   "name": "python",
   "nbconvert_exporter": "python",
   "pygments_lexer": "ipython3",
   "version": "3.11.4"
  }
 },
 "nbformat": 4,
 "nbformat_minor": 5
}
