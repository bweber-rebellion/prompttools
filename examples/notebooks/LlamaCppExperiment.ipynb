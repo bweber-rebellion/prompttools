{
 "cells": [
  {
   "cell_type": "markdown",
   "id": "0a13ddc8",
   "metadata": {},
   "source": [
    "# LlamaCpp Experiment Example"
   ]
  },
  {
   "cell_type": "markdown",
   "id": "623f0cfe",
   "metadata": {},
   "source": [
    "## Installations"
   ]
  },
  {
   "cell_type": "code",
   "execution_count": 1,
   "id": "885dabeb",
   "metadata": {},
   "outputs": [],
   "source": [
    "# !pip install --quiet --force-reinstall prompttools"
   ]
  },
  {
   "cell_type": "markdown",
   "id": "2eac35f8",
   "metadata": {},
   "source": [
    "## Setup imports and API keys"
   ]
  },
  {
   "cell_type": "markdown",
   "id": "842f1e47",
   "metadata": {},
   "source": [
    "We'll import the relevant `prompttools` modules to setup our experiment."
   ]
  },
  {
   "cell_type": "code",
   "execution_count": 2,
   "id": "beaa70a1",
   "metadata": {},
   "outputs": [],
   "source": [
    "from typing import Dict, List, Tuple\n",
    "from prompttools.experiment import LlamaCppExperiment"
   ]
  },
  {
   "cell_type": "markdown",
   "id": "622dea9a",
   "metadata": {},
   "source": [
    "## Run an experiment"
   ]
  },
  {
   "cell_type": "markdown",
   "id": "3babfe5a",
   "metadata": {},
   "source": [
    "Next, we create our test inputs. We can iterate over models, inputs, and configurations like temperature."
   ]
  },
  {
   "cell_type": "code",
   "execution_count": 3,
   "id": "9114cfbf",
   "metadata": {},
   "outputs": [],
   "source": [
    "model_paths = [\n",
    "    \"/Users/stevenkrawczyk/Downloads/llama-7b.ggmlv3.q2_K.bin\",  # Download from https://huggingface.co/TheBloke/LLaMa-7B-GGML/tree/main\n",
    "    \"/Users/stevenkrawczyk/Downloads/llama-2-7b.ggmlv3.q2_K.bin\",\n",
    "]  # Download from https://huggingface.co/TheBloke/Llama-2-7B-GGML/tree/main\n",
    "prompts = [\n",
    "    \"Who was the first president?\",\n",
    "    \"Who was the first president of the USA?\",\n",
    "]\n",
    "temperatures = [0.0, 1.0]\n",
    "\n",
    "call_params = dict(temperature=temperatures)\n",
    "\n",
    "experiment = LlamaCppExperiment(model_paths, prompts, call_params=call_params)"
   ]
  },
  {
   "cell_type": "markdown",
   "id": "f3fa5450",
   "metadata": {},
   "source": [
    "We can then run the experiment to get results."
   ]
  },
  {
   "cell_type": "code",
   "execution_count": 4,
   "id": "83b33130",
   "metadata": {},
   "outputs": [
    {
     "name": "stderr",
     "output_type": "stream",
     "text": [
      "llama.cpp: loading model from /Users/stevenkrawczyk/Downloads/llama-7b.ggmlv3.q2_K.bin\n",
      "llama_model_load_internal: format     = ggjt v3 (latest)\n",
      "llama_model_load_internal: n_vocab    = 32000\n",
      "llama_model_load_internal: n_ctx      = 512\n",
      "llama_model_load_internal: n_embd     = 4096\n",
      "llama_model_load_internal: n_mult     = 256\n",
      "llama_model_load_internal: n_head     = 32\n",
      "llama_model_load_internal: n_layer    = 32\n",
      "llama_model_load_internal: n_rot      = 128\n",
      "llama_model_load_internal: freq_base  = 10000.0\n",
      "llama_model_load_internal: freq_scale = 1\n",
      "llama_model_load_internal: ftype      = 10 (mostly Q2_K)\n",
      "llama_model_load_internal: n_ff       = 11008\n",
      "llama_model_load_internal: model size = 7B\n",
      "llama_model_load_internal: ggml ctx size =    0.08 MB\n",
      "llama_model_load_internal: mem required  = 4242.13 MB (+ 1026.00 MB per state)\n",
      "llama_new_context_with_model: kv self size  =  256.00 MB\n",
      "AVX = 1 | AVX2 = 1 | AVX512 = 0 | AVX512_VBMI = 0 | AVX512_VNNI = 0 | FMA = 1 | NEON = 0 | ARM_FMA = 0 | F16C = 1 | FP16_VA = 0 | WASM_SIMD = 0 | BLAS = 1 | SSE3 = 1 | VSX = 0 | \n",
      "\n",
      "llama_print_timings:        load time =  4016.47 ms\n",
      "llama_print_timings:      sample time =    86.76 ms /   128 runs   (    0.68 ms per token,  1475.39 tokens per second)\n",
      "llama_print_timings: prompt eval time =  4016.43 ms /     7 tokens (  573.77 ms per token,     1.74 tokens per second)\n",
      "llama_print_timings:        eval time = 13913.40 ms /   127 runs   (  109.55 ms per token,     9.13 tokens per second)\n",
      "llama_print_timings:       total time = 18368.89 ms\n",
      "Llama.generate: prefix-match hit\n",
      "\n",
      "llama_print_timings:        load time =  4016.47 ms\n",
      "llama_print_timings:      sample time =    92.11 ms /   128 runs   (    0.72 ms per token,  1389.66 tokens per second)\n",
      "llama_print_timings: prompt eval time =   378.54 ms /     4 tokens (   94.64 ms per token,    10.57 tokens per second)\n",
      "llama_print_timings:        eval time = 13931.34 ms /   127 runs   (  109.70 ms per token,     9.12 tokens per second)\n",
      "llama_print_timings:       total time = 14724.34 ms\n",
      "Llama.generate: prefix-match hit\n",
      "\n",
      "llama_print_timings:        load time =  4016.47 ms\n",
      "llama_print_timings:      sample time =   100.68 ms /   128 runs   (    0.79 ms per token,  1271.34 tokens per second)\n",
      "llama_print_timings: prompt eval time =     0.00 ms /     1 tokens (    0.00 ms per token,      inf tokens per second)\n",
      "llama_print_timings:        eval time = 17478.23 ms /   128 runs   (  136.55 ms per token,     7.32 tokens per second)\n",
      "llama_print_timings:       total time = 17935.79 ms\n",
      "Llama.generate: prefix-match hit\n",
      "\n",
      "llama_print_timings:        load time =  4016.47 ms\n",
      "llama_print_timings:      sample time =    96.20 ms /   128 runs   (    0.75 ms per token,  1330.59 tokens per second)\n",
      "llama_print_timings: prompt eval time =   354.47 ms /     4 tokens (   88.62 ms per token,    11.28 tokens per second)\n",
      "llama_print_timings:        eval time = 13722.33 ms /   127 runs   (  108.05 ms per token,     9.25 tokens per second)\n",
      "llama_print_timings:       total time = 14501.04 ms\n",
      "llama.cpp: loading model from /Users/stevenkrawczyk/Downloads/llama-2-7b.ggmlv3.q2_K.bin\n",
      "llama_model_load_internal: format     = ggjt v3 (latest)\n",
      "llama_model_load_internal: n_vocab    = 32000\n",
      "llama_model_load_internal: n_ctx      = 512\n",
      "llama_model_load_internal: n_embd     = 4096\n",
      "llama_model_load_internal: n_mult     = 256\n",
      "llama_model_load_internal: n_head     = 32\n",
      "llama_model_load_internal: n_layer    = 32\n",
      "llama_model_load_internal: n_rot      = 128\n",
      "llama_model_load_internal: freq_base  = 10000.0\n",
      "llama_model_load_internal: freq_scale = 1\n",
      "llama_model_load_internal: ftype      = 10 (mostly Q2_K)\n",
      "llama_model_load_internal: n_ff       = 11008\n",
      "llama_model_load_internal: model size = 7B\n",
      "llama_model_load_internal: ggml ctx size =    0.08 MB\n",
      "llama_model_load_internal: mem required  = 4303.65 MB (+ 1026.00 MB per state)\n",
      "llama_new_context_with_model: kv self size  =  256.00 MB\n",
      "AVX = 1 | AVX2 = 1 | AVX512 = 0 | AVX512_VBMI = 0 | AVX512_VNNI = 0 | FMA = 1 | NEON = 0 | ARM_FMA = 0 | F16C = 1 | FP16_VA = 0 | WASM_SIMD = 0 | BLAS = 1 | SSE3 = 1 | VSX = 0 | \n",
      "\n",
      "llama_print_timings:        load time =  4917.62 ms\n",
      "llama_print_timings:      sample time =    88.00 ms /   128 runs   (    0.69 ms per token,  1454.50 tokens per second)\n",
      "llama_print_timings: prompt eval time =  4917.59 ms /     7 tokens (  702.51 ms per token,     1.42 tokens per second)\n",
      "llama_print_timings:        eval time = 14011.11 ms /   127 runs   (  110.32 ms per token,     9.06 tokens per second)\n",
      "llama_print_timings:       total time = 19335.18 ms\n",
      "Llama.generate: prefix-match hit\n",
      "\n",
      "llama_print_timings:        load time =  4917.62 ms\n",
      "llama_print_timings:      sample time =    94.10 ms /   128 runs   (    0.74 ms per token,  1360.20 tokens per second)\n",
      "llama_print_timings: prompt eval time =   361.41 ms /     4 tokens (   90.35 ms per token,    11.07 tokens per second)\n",
      "llama_print_timings:        eval time = 13800.67 ms /   127 runs   (  108.67 ms per token,     9.20 tokens per second)\n",
      "llama_print_timings:       total time = 14587.56 ms\n",
      "Llama.generate: prefix-match hit\n",
      "\n",
      "llama_print_timings:        load time =  4917.62 ms\n",
      "llama_print_timings:      sample time =   104.46 ms /   128 runs   (    0.82 ms per token,  1225.31 tokens per second)\n",
      "llama_print_timings: prompt eval time =     0.00 ms /     1 tokens (    0.00 ms per token,      inf tokens per second)\n",
      "llama_print_timings:        eval time = 17899.73 ms /   128 runs   (  139.84 ms per token,     7.15 tokens per second)\n",
      "llama_print_timings:       total time = 18365.83 ms\n",
      "Llama.generate: prefix-match hit\n",
      "\n",
      "llama_print_timings:        load time =  4917.62 ms\n",
      "llama_print_timings:      sample time =    99.02 ms /   128 runs   (    0.77 ms per token,  1292.63 tokens per second)\n",
      "llama_print_timings: prompt eval time =   485.72 ms /     4 tokens (  121.43 ms per token,     8.24 tokens per second)\n",
      "llama_print_timings:        eval time = 14847.22 ms /   127 runs   (  116.91 ms per token,     8.55 tokens per second)\n",
      "llama_print_timings:       total time = 15770.46 ms\n"
     ]
    }
   ],
   "source": [
    "experiment.run()"
   ]
  },
  {
   "cell_type": "markdown",
   "id": "266c13eb",
   "metadata": {},
   "source": [
    "## Evaluate the model response"
   ]
  },
  {
   "cell_type": "markdown",
   "id": "bebb8023",
   "metadata": {},
   "source": [
    "To evaluate the results, we'll define an eval function. We can use semantic distance to check if the model's response is similar to our expected output."
   ]
  },
  {
   "cell_type": "code",
   "execution_count": 5,
   "id": "8ddbb951",
   "metadata": {},
   "outputs": [],
   "source": [
    "from prompttools.utils import similarity"
   ]
  },
  {
   "cell_type": "code",
   "execution_count": 6,
   "id": "e80dfeec",
   "metadata": {
    "scrolled": true
   },
   "outputs": [],
   "source": [
    "experiment.evaluate(\"similar_to_expected\", similarity.evaluate, expected=\"George Washington\")"
   ]
  },
  {
   "cell_type": "markdown",
   "id": "974d6065",
   "metadata": {},
   "source": [
    "Finally, we can evaluate and visualize the results."
   ]
  },
  {
   "cell_type": "code",
   "execution_count": 7,
   "id": "4d09c18e",
   "metadata": {
    "scrolled": false
   },
   "outputs": [
    {
     "data": {
      "text/html": [
       "<div>\n",
       "<style scoped>\n",
       "    .dataframe tbody tr th:only-of-type {\n",
       "        vertical-align: middle;\n",
       "    }\n",
       "\n",
       "    .dataframe tbody tr th {\n",
       "        vertical-align: top;\n",
       "    }\n",
       "\n",
       "    .dataframe thead th {\n",
       "        text-align: right;\n",
       "    }\n",
       "</style>\n",
       "<table border=\"1\" class=\"dataframe\">\n",
       "  <thead>\n",
       "    <tr style=\"text-align: right;\">\n",
       "      <th></th>\n",
       "      <th>prompt</th>\n",
       "      <th>response(s)</th>\n",
       "      <th>latency</th>\n",
       "      <th>similar_to_expected</th>\n",
       "      <th>model_path</th>\n",
       "      <th>temperature</th>\n",
       "    </tr>\n",
       "  </thead>\n",
       "  <tbody>\n",
       "    <tr>\n",
       "      <th>0</th>\n",
       "      <td>Who was the first president?</td>\n",
       "      <td>[\\nThe first President of the United States was George Washington, who served from 1789 to 1797. He was followed by John Adams, Thomas Jefferson, James Madison, James Monroe, John Quincy Adams, Andrew Jackson, Martin Van Buren, William Henry Harrison, John Tyler, James K. Polk, Zachary Taylor, Millard Fillmore, Franklin Pierce, James Buchanan, Abraham Lincoln, Andrew Johnson, Ulysses S. Grant, Rutherford B. Hayes, James A. Garfield, Chester Arthur, Grover Cleveland,]</td>\n",
       "      <td>18.369246</td>\n",
       "      <td>0.500467</td>\n",
       "      <td>/Users/stevenkrawczyk/Downloads/llama-7b.ggmlv3.q2_K.bin</td>\n",
       "      <td>0.0</td>\n",
       "    </tr>\n",
       "    <tr>\n",
       "      <th>1</th>\n",
       "      <td>Who was the first president of the USA?</td>\n",
       "      <td>[\\nWho was the 1st President of the USA?\\nThe first president of the USA was George Washington. He served as the 1st President from 1789-1796.\\nWhat is the first president of the USA?\\nGeorge Washington, who served as the 1st President of the USA, from 1789 to 1796.\\nWho was the 1st president of the USA in 1789?\\nThe first president of the USA was George Washington, serving from 1789-1796.\\nWhat is]</td>\n",
       "      <td>14.725411</td>\n",
       "      <td>0.555650</td>\n",
       "      <td>/Users/stevenkrawczyk/Downloads/llama-7b.ggmlv3.q2_K.bin</td>\n",
       "      <td>0.0</td>\n",
       "    </tr>\n",
       "    <tr>\n",
       "      <th>2</th>\n",
       "      <td>Who was the first president?</td>\n",
       "      <td>[\\nThe 1st U.S. President George Washington became the president of the United States in 1789, the second leader elected from that year till the time the last one John Fitzgerald Kennedy on the 20th November 1963 passed away because of the assassination committed by a communist activist from Texas Lee Oswald. The first president of the United States is the only leader having had the privilege to lead the country when the constitution was ratified in the year 1787, the first constitutional amendment being created by the congress under the presiden]</td>\n",
       "      <td>17.936560</td>\n",
       "      <td>0.513325</td>\n",
       "      <td>/Users/stevenkrawczyk/Downloads/llama-7b.ggmlv3.q2_K.bin</td>\n",
       "      <td>1.0</td>\n",
       "    </tr>\n",
       "    <tr>\n",
       "      <th>3</th>\n",
       "      <td>Who was the first president of the USA?</td>\n",
       "      <td>[\\nThose who are in the process of becoming US Citizens (and those from whom that citizenship is taken for granted), will often answer by stating “George Washington, 1789-04/26/1900.” However, there were not only presidents whose names they know. Most don’t even mention Thomas Jefferson (who was the second President of the USA, and who wrote the Declaration Of Independence, thus being an important figure in American history).\\n“Thomas-Jefferson” is a person who they should actually, know more about than not. For]</td>\n",
       "      <td>14.501218</td>\n",
       "      <td>0.479340</td>\n",
       "      <td>/Users/stevenkrawczyk/Downloads/llama-7b.ggmlv3.q2_K.bin</td>\n",
       "      <td>1.0</td>\n",
       "    </tr>\n",
       "    <tr>\n",
       "      <th>4</th>\n",
       "      <td>Who was the first president?</td>\n",
       "      <td>[\\nWhat is the name of the 1st President of India?\\nWho was the first president of India?\\nWho was the first Indian president?\\nWho was the first president of India and why?\\nWho was the first president of India and what did he do?\\nWho was the first president of India and his achievements?\\nWho is the 1st President of India?\\nWho is the 2nd President of India?\\nWho is the 3rd President of India?\\nWho is the 4th President of India?\\nWho is the 5th President of India and why?\\nWho]</td>\n",
       "      <td>19.335838</td>\n",
       "      <td>0.824898</td>\n",
       "      <td>/Users/stevenkrawczyk/Downloads/llama-2-7b.ggmlv3.q2_K.bin</td>\n",
       "      <td>0.0</td>\n",
       "    </tr>\n",
       "    <tr>\n",
       "      <th>5</th>\n",
       "      <td>Who was the first president of the USA?</td>\n",
       "      <td>[\\n What is the name of the biggest lake in the world?\\nWhat is the largest country in the world?\\nWhat is the longest river in the world?\\nWhat is the highest mountain in the world?\\nWhat is the most famous building in the world?\\nWhat is the oldest city in the world?\\nWhat is the biggest desert in the world?\\nWhat is the biggest island in the world?\\nWhat is the biggest country in the world?\\nWhat is the biggest river in the world?\\nWhat is the biggest lake in the world?\\nWhat is the highest mountain in the world?\\nWhat is the]</td>\n",
       "      <td>14.588122</td>\n",
       "      <td>0.917948</td>\n",
       "      <td>/Users/stevenkrawczyk/Downloads/llama-2-7b.ggmlv3.q2_K.bin</td>\n",
       "      <td>0.0</td>\n",
       "    </tr>\n",
       "    <tr>\n",
       "      <th>6</th>\n",
       "      <td>Who was the first president?</td>\n",
       "      <td>[\\n What did George Washington do after he became President of the United States of America?\\n What happened to his wooden teeth?\\nWhen a reporter came from Great Britain and interviewed President George Washington, Washington did not think highly of the idea.\\n\"Do you realize that there is one person who has done this more than anyone else?\" Washington told a friend with regard to publicly being interviewed for the first time by a newspaper on December 16, 1784. \"This was never done before in America or Europe, and I think it will be thought ridiculous when it is known that one of]</td>\n",
       "      <td>18.365886</td>\n",
       "      <td>0.454999</td>\n",
       "      <td>/Users/stevenkrawczyk/Downloads/llama-2-7b.ggmlv3.q2_K.bin</td>\n",
       "      <td>1.0</td>\n",
       "    </tr>\n",
       "    <tr>\n",
       "      <th>7</th>\n",
       "      <td>Who was the first president of the USA?</td>\n",
       "      <td>[\\n  It is not true that there are no statues in New York City. Statue Park is in Staten Island, across the river from the big town. A huge warehouse full of human-shaped statues sits on one acre and contains around six thousand old statues (made of wood or bronze). At least four thousand pieces of art come here every year as donations to this strange park.\\nIf you drive on the highway to visit Statue Park, you will be stopped by security guards and asked what you are doing there. The security guy looks at your face, stares at]</td>\n",
       "      <td>15.772150</td>\n",
       "      <td>0.930738</td>\n",
       "      <td>/Users/stevenkrawczyk/Downloads/llama-2-7b.ggmlv3.q2_K.bin</td>\n",
       "      <td>1.0</td>\n",
       "    </tr>\n",
       "  </tbody>\n",
       "</table>\n",
       "</div>"
      ],
      "text/plain": [
       "                                    prompt  \\\n",
       "0  Who was the first president?              \n",
       "1  Who was the first president of the USA?   \n",
       "2  Who was the first president?              \n",
       "3  Who was the first president of the USA?   \n",
       "4  Who was the first president?              \n",
       "5  Who was the first president of the USA?   \n",
       "6  Who was the first president?              \n",
       "7  Who was the first president of the USA?   \n",
       "\n",
       "                                                                                                                                                                                                                                                                                                                                                                                                                                                                                                                                                                                                     response(s)  \\\n",
       "0  [\\nThe first President of the United States was George Washington, who served from 1789 to 1797. He was followed by John Adams, Thomas Jefferson, James Madison, James Monroe, John Quincy Adams, Andrew Jackson, Martin Van Buren, William Henry Harrison, John Tyler, James K. Polk, Zachary Taylor, Millard Fillmore, Franklin Pierce, James Buchanan, Abraham Lincoln, Andrew Johnson, Ulysses S. Grant, Rutherford B. Hayes, James A. Garfield, Chester Arthur, Grover Cleveland,]                                                                                                                         \n",
       "1  [\\nWho was the 1st President of the USA?\\nThe first president of the USA was George Washington. He served as the 1st President from 1789-1796.\\nWhat is the first president of the USA?\\nGeorge Washington, who served as the 1st President of the USA, from 1789 to 1796.\\nWho was the 1st president of the USA in 1789?\\nThe first president of the USA was George Washington, serving from 1789-1796.\\nWhat is]                                                                                                                                                                                              \n",
       "2  [\\nThe 1st U.S. President George Washington became the president of the United States in 1789, the second leader elected from that year till the time the last one John Fitzgerald Kennedy on the 20th November 1963 passed away because of the assassination committed by a communist activist from Texas Lee Oswald. The first president of the United States is the only leader having had the privilege to lead the country when the constitution was ratified in the year 1787, the first constitutional amendment being created by the congress under the presiden]                                       \n",
       "3  [\\nThose who are in the process of becoming US Citizens (and those from whom that citizenship is taken for granted), will often answer by stating “George Washington, 1789-04/26/1900.” However, there were not only presidents whose names they know. Most don’t even mention Thomas Jefferson (who was the second President of the USA, and who wrote the Declaration Of Independence, thus being an important figure in American history).\\n“Thomas-Jefferson” is a person who they should actually, know more about than not. For]                                                                          \n",
       "4  [\\nWhat is the name of the 1st President of India?\\nWho was the first president of India?\\nWho was the first Indian president?\\nWho was the first president of India and why?\\nWho was the first president of India and what did he do?\\nWho was the first president of India and his achievements?\\nWho is the 1st President of India?\\nWho is the 2nd President of India?\\nWho is the 3rd President of India?\\nWho is the 4th President of India?\\nWho is the 5th President of India and why?\\nWho]                                                                                                           \n",
       "5  [\\n What is the name of the biggest lake in the world?\\nWhat is the largest country in the world?\\nWhat is the longest river in the world?\\nWhat is the highest mountain in the world?\\nWhat is the most famous building in the world?\\nWhat is the oldest city in the world?\\nWhat is the biggest desert in the world?\\nWhat is the biggest island in the world?\\nWhat is the biggest country in the world?\\nWhat is the biggest river in the world?\\nWhat is the biggest lake in the world?\\nWhat is the highest mountain in the world?\\nWhat is the]                                                         \n",
       "6  [\\n What did George Washington do after he became President of the United States of America?\\n What happened to his wooden teeth?\\nWhen a reporter came from Great Britain and interviewed President George Washington, Washington did not think highly of the idea.\\n\"Do you realize that there is one person who has done this more than anyone else?\" Washington told a friend with regard to publicly being interviewed for the first time by a newspaper on December 16, 1784. \"This was never done before in America or Europe, and I think it will be thought ridiculous when it is known that one of]   \n",
       "7  [\\n  It is not true that there are no statues in New York City. Statue Park is in Staten Island, across the river from the big town. A huge warehouse full of human-shaped statues sits on one acre and contains around six thousand old statues (made of wood or bronze). At least four thousand pieces of art come here every year as donations to this strange park.\\nIf you drive on the highway to visit Statue Park, you will be stopped by security guards and asked what you are doing there. The security guy looks at your face, stares at]                                                           \n",
       "\n",
       "     latency  similar_to_expected  \\\n",
       "0  18.369246  0.500467              \n",
       "1  14.725411  0.555650              \n",
       "2  17.936560  0.513325              \n",
       "3  14.501218  0.479340              \n",
       "4  19.335838  0.824898              \n",
       "5  14.588122  0.917948              \n",
       "6  18.365886  0.454999              \n",
       "7  15.772150  0.930738              \n",
       "\n",
       "                                                   model_path  temperature  \n",
       "0  /Users/stevenkrawczyk/Downloads/llama-7b.ggmlv3.q2_K.bin    0.0          \n",
       "1  /Users/stevenkrawczyk/Downloads/llama-7b.ggmlv3.q2_K.bin    0.0          \n",
       "2  /Users/stevenkrawczyk/Downloads/llama-7b.ggmlv3.q2_K.bin    1.0          \n",
       "3  /Users/stevenkrawczyk/Downloads/llama-7b.ggmlv3.q2_K.bin    1.0          \n",
       "4  /Users/stevenkrawczyk/Downloads/llama-2-7b.ggmlv3.q2_K.bin  0.0          \n",
       "5  /Users/stevenkrawczyk/Downloads/llama-2-7b.ggmlv3.q2_K.bin  0.0          \n",
       "6  /Users/stevenkrawczyk/Downloads/llama-2-7b.ggmlv3.q2_K.bin  1.0          \n",
       "7  /Users/stevenkrawczyk/Downloads/llama-2-7b.ggmlv3.q2_K.bin  1.0          "
      ]
     },
     "metadata": {},
     "output_type": "display_data"
    }
   ],
   "source": [
    "experiment.visualize()"
   ]
  },
  {
   "cell_type": "code",
   "execution_count": null,
   "id": "c60a16c3",
   "metadata": {},
   "outputs": [],
   "source": []
  }
 ],
 "metadata": {
  "kernelspec": {
   "display_name": "Python 3 (ipykernel)",
   "language": "python",
   "name": "python3"
  },
  "language_info": {
   "codemirror_mode": {
    "name": "ipython",
    "version": 3
   },
   "file_extension": ".py",
   "mimetype": "text/x-python",
   "name": "python",
   "nbconvert_exporter": "python",
   "pygments_lexer": "ipython3",
   "version": "3.11.4"
  }
 },
 "nbformat": 4,
 "nbformat_minor": 5
}
