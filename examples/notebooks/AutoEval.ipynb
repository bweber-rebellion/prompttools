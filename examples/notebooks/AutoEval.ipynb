{
 "cells": [
  {
   "cell_type": "markdown",
   "id": "a7dea195",
   "metadata": {},
   "source": [
    "# Auto-Evaluation Example"
   ]
  },
  {
   "cell_type": "markdown",
   "id": "edfec7c8",
   "metadata": {},
   "source": [
    "## Installations"
   ]
  },
  {
   "cell_type": "code",
   "execution_count": 1,
   "id": "c84ab4f7",
   "metadata": {},
   "outputs": [],
   "source": [
    "# !pip install --quiet --force-reinstall prompttools"
   ]
  },
  {
   "cell_type": "markdown",
   "id": "6a80e19b",
   "metadata": {},
   "source": [
    "## Setup imports and API keys"
   ]
  },
  {
   "cell_type": "markdown",
   "id": "28f1521a",
   "metadata": {},
   "source": [
    "First, we'll need to set our API keys. If we are in DEBUG mode, we don't need to use a real OpenAI key, so for now we'll set them to empty strings."
   ]
  },
  {
   "cell_type": "code",
   "execution_count": 10,
   "id": "1eb85245",
   "metadata": {},
   "outputs": [],
   "source": [
    "import os\n",
    "\n",
    "os.environ[\"DEBUG\"] = \"\"  # Set to \"1\" if you want to use debug mode.\n",
    "os.environ[\"OPENAI_API_KEY\"] = \"\""
   ]
  },
  {
   "cell_type": "markdown",
   "id": "497ac0bb",
   "metadata": {},
   "source": [
    "Then we'll import the relevant `prompttools` modules to set up our experiment."
   ]
  },
  {
   "cell_type": "code",
   "execution_count": 3,
   "id": "ad3859e7",
   "metadata": {},
   "outputs": [],
   "source": [
    "from typing import Dict\n",
    "from prompttools.harness import PromptTemplateExperimentationHarness\n",
    "from prompttools.experiment import OpenAICompletionExperiment"
   ]
  },
  {
   "cell_type": "markdown",
   "id": "ffcfbb5b",
   "metadata": {},
   "source": [
    "## Run experiments"
   ]
  },
  {
   "cell_type": "markdown",
   "id": "f517570f",
   "metadata": {},
   "source": [
    "Next, we create our test inputs. For this example, we'll use a prompt template, which uses [jinja](https://jinja.palletsprojects.com/en/3.1.x/) for templating."
   ]
  },
  {
   "cell_type": "code",
   "execution_count": 4,
   "id": "29408faa",
   "metadata": {},
   "outputs": [],
   "source": [
    "prompt_templates = [\n",
    "    \"\"\"\n",
    "INSTRUCTIONS\n",
    "Answer the following question\n",
    "\n",
    "QUESTION\n",
    "{{input}}\n",
    "\n",
    "ANSWER\n",
    "\"\"\",\n",
    "    \"\"\"\n",
    "INSTRUCTIONS\n",
    "Answer the following question. \n",
    "If it is not prime, give its decomposition\n",
    "\n",
    "QUESTION\n",
    "{{input}}\n",
    "\n",
    "ANSWER\n",
    "\"\"\",\n",
    "]\n",
    "user_inputs = [{\"input\": \"is 17077 a prime number\"}, {\"input\": \"Is 17077 prime?\"}]"
   ]
  },
  {
   "cell_type": "markdown",
   "id": "0c9a1777",
   "metadata": {},
   "source": [
    "Now we can define an experimentation harness for our inputs and model. We could also pass model arguments if, for example, we wanted to change the model temperature."
   ]
  },
  {
   "cell_type": "code",
   "execution_count": 5,
   "id": "69159622",
   "metadata": {},
   "outputs": [],
   "source": [
    "harness = PromptTemplateExperimentationHarness(\n",
    "    OpenAICompletionExperiment, \"text-davinci-003\", prompt_templates, user_inputs\n",
    ")"
   ]
  },
  {
   "cell_type": "markdown",
   "id": "af04bd60",
   "metadata": {},
   "source": [
    "We can then run the experiment to get results."
   ]
  },
  {
   "cell_type": "code",
   "execution_count": 6,
   "id": "744ab156",
   "metadata": {},
   "outputs": [
    {
     "data": {
      "text/html": [
       "<div>\n",
       "<style scoped>\n",
       "    .dataframe tbody tr th:only-of-type {\n",
       "        vertical-align: middle;\n",
       "    }\n",
       "\n",
       "    .dataframe tbody tr th {\n",
       "        vertical-align: top;\n",
       "    }\n",
       "\n",
       "    .dataframe thead th {\n",
       "        text-align: right;\n",
       "    }\n",
       "</style>\n",
       "<table border=\"1\" class=\"dataframe\">\n",
       "  <thead>\n",
       "    <tr style=\"text-align: right;\">\n",
       "      <th></th>\n",
       "      <th>prompt</th>\n",
       "      <th>response(s)</th>\n",
       "      <th>latency</th>\n",
       "    </tr>\n",
       "  </thead>\n",
       "  <tbody>\n",
       "    <tr>\n",
       "      <th>0</th>\n",
       "      <td>\\nINSTRUCTIONS\\nAnswer the following question\\n\\nQUESTION\\nis 17077 a prime number\\n\\nANSWER</td>\n",
       "      <td>\\nNo, 17077 is not a prime number. It is divisible</td>\n",
       "      <td>0.743519</td>\n",
       "    </tr>\n",
       "    <tr>\n",
       "      <th>1</th>\n",
       "      <td>\\nINSTRUCTIONS\\nAnswer the following question\\n\\nQUESTION\\nIs 17077 prime?\\n\\nANSWER</td>\n",
       "      <td>\\nNo, 17077 is not a prime number. It is divisible</td>\n",
       "      <td>0.919933</td>\n",
       "    </tr>\n",
       "    <tr>\n",
       "      <th>2</th>\n",
       "      <td>\\nINSTRUCTIONS\\nAnswer the following question. \\nIf it is not prime, give its decomposition\\n\\nQUESTION\\nis 17077 a prime number\\n\\nANSWER</td>\n",
       "      <td>\\nNo, 17077 is not a prime number. It can be decomp</td>\n",
       "      <td>0.928695</td>\n",
       "    </tr>\n",
       "    <tr>\n",
       "      <th>3</th>\n",
       "      <td>\\nINSTRUCTIONS\\nAnswer the following question. \\nIf it is not prime, give its decomposition\\n\\nQUESTION\\nIs 17077 prime?\\n\\nANSWER</td>\n",
       "      <td>\\nNo, 17077 is not prime. 17077 = 11 x</td>\n",
       "      <td>0.550601</td>\n",
       "    </tr>\n",
       "  </tbody>\n",
       "</table>\n",
       "</div>"
      ],
      "text/plain": [
       "                                                                                                                                       prompt  \\\n",
       "0  \\nINSTRUCTIONS\\nAnswer the following question\\n\\nQUESTION\\nis 17077 a prime number\\n\\nANSWER                                                 \n",
       "1  \\nINSTRUCTIONS\\nAnswer the following question\\n\\nQUESTION\\nIs 17077 prime?\\n\\nANSWER                                                         \n",
       "2  \\nINSTRUCTIONS\\nAnswer the following question. \\nIf it is not prime, give its decomposition\\n\\nQUESTION\\nis 17077 a prime number\\n\\nANSWER   \n",
       "3  \\nINSTRUCTIONS\\nAnswer the following question. \\nIf it is not prime, give its decomposition\\n\\nQUESTION\\nIs 17077 prime?\\n\\nANSWER           \n",
       "\n",
       "                                           response(s)   latency  \n",
       "0  \\nNo, 17077 is not a prime number. It is divisible   0.743519  \n",
       "1  \\nNo, 17077 is not a prime number. It is divisible   0.919933  \n",
       "2  \\nNo, 17077 is not a prime number. It can be decomp  0.928695  \n",
       "3  \\nNo, 17077 is not prime. 17077 = 11 x               0.550601  "
      ]
     },
     "metadata": {},
     "output_type": "display_data"
    }
   ],
   "source": [
    "harness.run()\n",
    "harness.visualize()"
   ]
  },
  {
   "cell_type": "markdown",
   "id": "637a7391",
   "metadata": {},
   "source": [
    "You can use the `pivot` keyword argument to view results by the template and inputs that created them."
   ]
  },
  {
   "cell_type": "code",
   "execution_count": 7,
   "id": "bb779595",
   "metadata": {
    "scrolled": true
   },
   "outputs": [
    {
     "data": {
      "text/html": [
       "<div>\n",
       "<style scoped>\n",
       "    .dataframe tbody tr th:only-of-type {\n",
       "        vertical-align: middle;\n",
       "    }\n",
       "\n",
       "    .dataframe tbody tr th {\n",
       "        vertical-align: top;\n",
       "    }\n",
       "\n",
       "    .dataframe thead th {\n",
       "        text-align: right;\n",
       "    }\n",
       "</style>\n",
       "<table border=\"1\" class=\"dataframe\">\n",
       "  <thead>\n",
       "    <tr style=\"text-align: right;\">\n",
       "      <th>prompt_template</th>\n",
       "      <th>\\nINSTRUCTIONS\\nAnswer the following question\\n\\nQUESTION\\n{{input}}\\n\\nANSWER\\n</th>\n",
       "      <th>\\nINSTRUCTIONS\\nAnswer the following question. \\nIf it is not prime, give its decomposition\\n\\nQUESTION\\n{{input}}\\n\\nANSWER\\n</th>\n",
       "    </tr>\n",
       "    <tr>\n",
       "      <th>user_input</th>\n",
       "      <th></th>\n",
       "      <th></th>\n",
       "    </tr>\n",
       "  </thead>\n",
       "  <tbody>\n",
       "    <tr>\n",
       "      <th>{'input': 'Is 17077 prime?'}</th>\n",
       "      <td>\\nNo, 17077 is not a prime number. It is divisible</td>\n",
       "      <td>\\nNo, 17077 is not prime. 17077 = 11 x</td>\n",
       "    </tr>\n",
       "    <tr>\n",
       "      <th>{'input': 'is 17077 a prime number'}</th>\n",
       "      <td>\\nNo, 17077 is not a prime number. It is divisible</td>\n",
       "      <td>\\nNo, 17077 is not a prime number. It can be decomp</td>\n",
       "    </tr>\n",
       "  </tbody>\n",
       "</table>\n",
       "</div>"
      ],
      "text/plain": [
       "prompt_template                      \\nINSTRUCTIONS\\nAnswer the following question\\n\\nQUESTION\\n{{input}}\\n\\nANSWER\\n  \\\n",
       "user_input                                                                                                              \n",
       "{'input': 'Is 17077 prime?'}          \\nNo, 17077 is not a prime number. It is divisible                                \n",
       "{'input': 'is 17077 a prime number'}  \\nNo, 17077 is not a prime number. It is divisible                                \n",
       "\n",
       "prompt_template                      \\nINSTRUCTIONS\\nAnswer the following question. \\nIf it is not prime, give its decomposition\\n\\nQUESTION\\n{{input}}\\n\\nANSWER\\n  \n",
       "user_input                                                                                                                                                           \n",
       "{'input': 'Is 17077 prime?'}          \\nNo, 17077 is not prime. 17077 = 11 x                                                                                         \n",
       "{'input': 'is 17077 a prime number'}  \\nNo, 17077 is not a prime number. It can be decomp                                                                            "
      ]
     },
     "metadata": {},
     "output_type": "display_data"
    }
   ],
   "source": [
    "harness.visualize(pivot=True)"
   ]
  },
  {
   "cell_type": "markdown",
   "id": "89cd320e",
   "metadata": {},
   "source": [
    "## Auto-Evaluate the model response"
   ]
  },
  {
   "cell_type": "markdown",
   "id": "c36767bd",
   "metadata": {},
   "source": [
    "To evaluate the model response, we can define an eval method that passes the input and response into another LLM to get feedback."
   ]
  },
  {
   "cell_type": "code",
   "execution_count": 8,
   "id": "8fe03c31",
   "metadata": {},
   "outputs": [],
   "source": [
    "from prompttools.utils import autoeval"
   ]
  },
  {
   "cell_type": "markdown",
   "id": "3008b09e",
   "metadata": {},
   "source": [
    "Finally, we can evaluate and visualize the results."
   ]
  },
  {
   "cell_type": "code",
   "execution_count": 9,
   "id": "4633f802",
   "metadata": {},
   "outputs": [
    {
     "data": {
      "text/html": [
       "<div>\n",
       "<style scoped>\n",
       "    .dataframe tbody tr th:only-of-type {\n",
       "        vertical-align: middle;\n",
       "    }\n",
       "\n",
       "    .dataframe tbody tr th {\n",
       "        vertical-align: top;\n",
       "    }\n",
       "\n",
       "    .dataframe thead th {\n",
       "        text-align: right;\n",
       "    }\n",
       "</style>\n",
       "<table border=\"1\" class=\"dataframe\">\n",
       "  <thead>\n",
       "    <tr style=\"text-align: right;\">\n",
       "      <th></th>\n",
       "      <th>prompt</th>\n",
       "      <th>response(s)</th>\n",
       "      <th>latency</th>\n",
       "      <th>followed_directions</th>\n",
       "    </tr>\n",
       "  </thead>\n",
       "  <tbody>\n",
       "    <tr>\n",
       "      <th>0</th>\n",
       "      <td>\\nINSTRUCTIONS\\nAnswer the following question\\n\\nQUESTION\\nis 17077 a prime number\\n\\nANSWER</td>\n",
       "      <td>\\nNo, 17077 is not a prime number. It is divisible</td>\n",
       "      <td>0.743519</td>\n",
       "      <td>1.0</td>\n",
       "    </tr>\n",
       "    <tr>\n",
       "      <th>1</th>\n",
       "      <td>\\nINSTRUCTIONS\\nAnswer the following question\\n\\nQUESTION\\nIs 17077 prime?\\n\\nANSWER</td>\n",
       "      <td>\\nNo, 17077 is not a prime number. It is divisible</td>\n",
       "      <td>0.919933</td>\n",
       "      <td>1.0</td>\n",
       "    </tr>\n",
       "    <tr>\n",
       "      <th>2</th>\n",
       "      <td>\\nINSTRUCTIONS\\nAnswer the following question. \\nIf it is not prime, give its decomposition\\n\\nQUESTION\\nis 17077 a prime number\\n\\nANSWER</td>\n",
       "      <td>\\nNo, 17077 is not a prime number. It can be decomp</td>\n",
       "      <td>0.928695</td>\n",
       "      <td>0.0</td>\n",
       "    </tr>\n",
       "    <tr>\n",
       "      <th>3</th>\n",
       "      <td>\\nINSTRUCTIONS\\nAnswer the following question. \\nIf it is not prime, give its decomposition\\n\\nQUESTION\\nIs 17077 prime?\\n\\nANSWER</td>\n",
       "      <td>\\nNo, 17077 is not prime. 17077 = 11 x</td>\n",
       "      <td>0.550601</td>\n",
       "      <td>0.0</td>\n",
       "    </tr>\n",
       "  </tbody>\n",
       "</table>\n",
       "</div>"
      ],
      "text/plain": [
       "                                                                                                                                       prompt  \\\n",
       "0  \\nINSTRUCTIONS\\nAnswer the following question\\n\\nQUESTION\\nis 17077 a prime number\\n\\nANSWER                                                 \n",
       "1  \\nINSTRUCTIONS\\nAnswer the following question\\n\\nQUESTION\\nIs 17077 prime?\\n\\nANSWER                                                         \n",
       "2  \\nINSTRUCTIONS\\nAnswer the following question. \\nIf it is not prime, give its decomposition\\n\\nQUESTION\\nis 17077 a prime number\\n\\nANSWER   \n",
       "3  \\nINSTRUCTIONS\\nAnswer the following question. \\nIf it is not prime, give its decomposition\\n\\nQUESTION\\nIs 17077 prime?\\n\\nANSWER           \n",
       "\n",
       "                                           response(s)   latency  \\\n",
       "0  \\nNo, 17077 is not a prime number. It is divisible   0.743519   \n",
       "1  \\nNo, 17077 is not a prime number. It is divisible   0.919933   \n",
       "2  \\nNo, 17077 is not a prime number. It can be decomp  0.928695   \n",
       "3  \\nNo, 17077 is not prime. 17077 = 11 x               0.550601   \n",
       "\n",
       "   followed_directions  \n",
       "0  1.0                  \n",
       "1  1.0                  \n",
       "2  0.0                  \n",
       "3  0.0                  "
      ]
     },
     "metadata": {},
     "output_type": "display_data"
    }
   ],
   "source": [
    "harness.evaluate(\"followed_directions\", autoeval.evaluate)\n",
    "harness.visualize()"
   ]
  },
  {
   "cell_type": "code",
   "execution_count": null,
   "id": "803d65f4",
   "metadata": {},
   "outputs": [],
   "source": []
  }
 ],
 "metadata": {
  "kernelspec": {
   "display_name": "Python 3 (ipykernel)",
   "language": "python",
   "name": "python3"
  },
  "language_info": {
   "codemirror_mode": {
    "name": "ipython",
    "version": 3
   },
   "file_extension": ".py",
   "mimetype": "text/x-python",
   "name": "python",
   "nbconvert_exporter": "python",
   "pygments_lexer": "ipython3",
   "version": "3.11.4"
  }
 },
 "nbformat": 4,
 "nbformat_minor": 5
}
